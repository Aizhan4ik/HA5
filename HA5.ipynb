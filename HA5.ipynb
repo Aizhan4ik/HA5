{
 "cells": [
  {
   "cell_type": "code",
   "execution_count": null,
   "id": "56f6a80d",
   "metadata": {},
   "outputs": [],
   "source": [
    "import pandas as pd\n",
    "import statsmodels.api as sm\n",
    "data = {\n",
    "    'Investigation_Cost': [5000, 10000, 15000, 20000, 25000, 30000, 35000, 40000, 45000, 50000],\n",
    "    'Fraud_Recovered': [12000, 28000, 35000, 42000, 51000, 58000, 62000, 69000, 75000, 82000]\n",
    "}\n",
    "\n",
    "df = pd.DataFrame(data)\n",
    "\n",
    "X = sm.add_constant(df['Investigation_Cost'])\n",
    "y = df['Fraud_Recovered']\n",
    "\n",
    "model = sm.OLS(y, X).fit()\n",
    "\n",
    "print(\"REGRESSION RESULTS\")\n",
    "print(\"==================\")\n",
    "print(model.summary())"
   ]
  },
  {
   "cell_type": "markdown",
   "id": "6afa386f",
   "metadata": {},
   "source": [
    "Regression Coefficients:\n",
    "\n",
    "const: This is the intercept (a) of your regression line.\n",
    "\n",
    "Investigation_Cost: This is the slope (b)—it tells you how much Fraud_Recovered increases for every unit increase in Investigation_Cost."
   ]
  },
  {
   "cell_type": "markdown",
   "id": "c3c3eff7",
   "metadata": {},
   "source": [
    "Regression P-Value:\n",
    "\n",
    "Under the \"P>|t|\" column, this tells you if a coefficient is statistically significant.\n",
    "\n",
    "If p-value < 0.05 → Statistically significant: there's a high chance the variable really affects the outcome.\n",
    "\n",
    "If p-value > 0.05 → Not significant: could be due to random chance.\n",
    "\n",
    "In the given model:\n",
    "The p-value for Investigation_Cost is very low (0.000), it means Investigation_Cost is a significant predictor of Fraud_Recovered."
   ]
  },
  {
   "cell_type": "markdown",
   "id": "da7198de",
   "metadata": {},
   "source": [
    "Regression R-Squared:\n",
    "\n",
    "This tells how much of the variation in the dependent variable is explained by your independent variable.\n",
    "\n",
    "R² = 1.0 means perfect fit\n",
    "\n",
    "R² = 0 means no explanatory power"
   ]
  },
  {
   "cell_type": "markdown",
   "id": "4107fd51",
   "metadata": {},
   "source": [
    "Regression Info:\n",
    "\n",
    "Dep. Variable: This is your dependent variable (here, Fraud_Recovered).\n",
    "Model: This tells you the model type (OLS = Ordinary Least Squares).\n",
    "Method: The method used for fitting (Least Squares).\n",
    "R-squared / Adj. R-squared: Measures how well your model explains the variation in the outcome.\n",
    "F-statistic: Tests whether your model explains a significant portion of the variance.\n",
    "Log-Likelihood, AIC, BIC: Used for model comparison (lower is better).\n",
    "No. Observations, Df Residuals, Df Model: Counts of data points and degrees of freedom."
   ]
  }
 ],
 "metadata": {
  "kernelspec": {
   "display_name": "Python 3",
   "language": "python",
   "name": "python3"
  },
  "language_info": {
   "codemirror_mode": {
    "name": "ipython",
    "version": 3
   },
   "file_extension": ".py",
   "mimetype": "text/x-python",
   "name": "python",
   "nbconvert_exporter": "python",
   "pygments_lexer": "ipython3",
   "version": "3.13.2"
  }
 },
 "nbformat": 4,
 "nbformat_minor": 5
}
